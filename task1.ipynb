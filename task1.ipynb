{
 "cells": [
  {
   "attachments": {},
   "cell_type": "markdown",
   "id": "21110755",
   "metadata": {},
   "source": [
    "## Task1\n",
    "\n",
    "We have elected to adapt the numerical specifications outlined in the project description due to our utilization of the free version of AnyLogic, limiting our simulation duration to 60 minutes instead of the stipulated 120 minutes. Furthermore, it is noteworthy that the Vienna University of Technology does not provide licenses for the full version of AnyLogic. Consequently, we have modified the specifications as follows:\n",
    "\n",
    "| Original Specification | Modified Specification |\n",
    "| --- | --- |\n",
    "| An estimated 6000 fans are expected               | An estimated 3000 fans are expected |\n",
    "| First fans arrive 2h before kickoff               | First fans arrive 1h before kickoff | \n",
    "| Standard visitor takes 6 ± 3 seconds               | Standard visitor takes 3 ± 1.5 seconds |\n",
    "| Season ticket holders take 3 ± 1 seconds           | Season ticket holders take 1.5 ± 0.5 seconds |\n",
    "| 500 Sturm-Liouville Graz Ultras arrive all at once | 250 Sturm-Liouville Graz Ultras arrive all at once |"
   ]
  },
  {
   "cell_type": "markdown",
   "id": "1bbf751f",
   "metadata": {},
   "source": [
    "For task 1, we have a total of 3000 – 250 (ultras) = 2750 expected fans, whom we simulate rushing to the stadium. Among them, 40% are season holders (1100) and 60% are standard visitors (1650). To define the relevant parameters for the number of gates in Task 1, we intend to employ the Monte Carlo method, conducting a substantial number of samples and recording the results. Ideally, an experiment type Monte Carlo is available in the AnyLogic Pro version, as described here: https://anylogic.help/anylogic/experiments/monte-carlo-experiment.html. This functionality is not accessible in the free version. Therefore, for Task 1, we have generated a run CSV file in which we perform a total of 10 simulations for each number of gates. We record and evaluate the absolute arrival rate for supporters after 60 minutes, both in absolute terms and as a percentage. This approach aims to determine the optimal number of gates for the simulation."
   ]
  },
  {
   "cell_type": "code",
   "execution_count": 30,
   "id": "57b771fb",
   "metadata": {},
   "outputs": [],
   "source": [
    "import pandas as pd\n",
    "import matplotlib.pyplot as plt"
   ]
  },
  {
   "cell_type": "code",
   "execution_count": 31,
   "id": "25722550",
   "metadata": {},
   "outputs": [
    {
     "data": {
      "text/html": [
       "<div>\n",
       "<style scoped>\n",
       "    .dataframe tbody tr th:only-of-type {\n",
       "        vertical-align: middle;\n",
       "    }\n",
       "\n",
       "    .dataframe tbody tr th {\n",
       "        vertical-align: top;\n",
       "    }\n",
       "\n",
       "    .dataframe thead th {\n",
       "        text-align: right;\n",
       "    }\n",
       "</style>\n",
       "<table border=\"1\" class=\"dataframe\">\n",
       "  <thead>\n",
       "    <tr style=\"text-align: right;\">\n",
       "      <th></th>\n",
       "      <th>employed Gates</th>\n",
       "      <th>Number of simulationruns</th>\n",
       "      <th>percentage of fans in the stadium</th>\n",
       "      <th>number of fans in the stadium</th>\n",
       "    </tr>\n",
       "  </thead>\n",
       "  <tbody>\n",
       "    <tr>\n",
       "      <th>0</th>\n",
       "      <td>1</td>\n",
       "      <td>1</td>\n",
       "      <td>24.51</td>\n",
       "      <td>674</td>\n",
       "    </tr>\n",
       "    <tr>\n",
       "      <th>1</th>\n",
       "      <td>1</td>\n",
       "      <td>2</td>\n",
       "      <td>24.58</td>\n",
       "      <td>676</td>\n",
       "    </tr>\n",
       "    <tr>\n",
       "      <th>2</th>\n",
       "      <td>1</td>\n",
       "      <td>3</td>\n",
       "      <td>24.69</td>\n",
       "      <td>679</td>\n",
       "    </tr>\n",
       "    <tr>\n",
       "      <th>3</th>\n",
       "      <td>1</td>\n",
       "      <td>4</td>\n",
       "      <td>24.58</td>\n",
       "      <td>676</td>\n",
       "    </tr>\n",
       "    <tr>\n",
       "      <th>4</th>\n",
       "      <td>1</td>\n",
       "      <td>5</td>\n",
       "      <td>24.04</td>\n",
       "      <td>661</td>\n",
       "    </tr>\n",
       "  </tbody>\n",
       "</table>\n",
       "</div>"
      ],
      "text/plain": [
       "   employed Gates  Number of simulationruns  \\\n",
       "0               1                         1   \n",
       "1               1                         2   \n",
       "2               1                         3   \n",
       "3               1                         4   \n",
       "4               1                         5   \n",
       "\n",
       "   percentage of fans in the stadium  number of fans in the stadium  \n",
       "0                              24.51                            674  \n",
       "1                              24.58                            676  \n",
       "2                              24.69                            679  \n",
       "3                              24.58                            676  \n",
       "4                              24.04                            661  "
      ]
     },
     "execution_count": 31,
     "metadata": {},
     "output_type": "execute_result"
    }
   ],
   "source": [
    "# Read the CSV file into a DataFrame\n",
    "df = pd.read_csv('task1.csv', sep=';')\n",
    "\n",
    "# Display the first few rows using head()\n",
    "# Convert 'percentage of fans in the stadium' to numeric\n",
    "df['percentage of fans in the stadium'] = pd.to_numeric(df['percentage of fans in the stadium'].str.replace(',', '.'), errors='coerce')\n",
    "# Round the 'percentage of fans in the stadium' column to two decimal places\n",
    "df['percentage of fans in the stadium'] = df['percentage of fans in the stadium'].round(2)\n",
    "# Round the 'percentage of fans in the stadium' column to two decimal places\n",
    "df['percentage of fans in the stadium'] = df['percentage of fans in the stadium'].round(2)\n",
    "df.head()"
   ]
  },
  {
   "attachments": {},
   "cell_type": "markdown",
   "id": "49765258",
   "metadata": {},
   "source": [
    "We can see in the task1.csv has the following attributes\n",
    "\n",
    "\n",
    "The formula for the percentage of fans in the stadium is represented as:\n",
    "\n",
    "\n",
    "$\\frac{numberoffansinthestadium * 100}{2750}$\n"
   ]
  },
  {
   "cell_type": "markdown",
   "id": "724af931",
   "metadata": {},
   "source": [
    "## Summary Table for Mean Number of Fans and Mean Percentage of Fans per Employed Gates:"
   ]
  },
  {
   "cell_type": "code",
   "execution_count": 32,
   "id": "5ac57609",
   "metadata": {},
   "outputs": [
    {
     "name": "stdout",
     "output_type": "stream",
     "text": [
      "   Employed Gates  Mean Number of Fans  Mean Percentage of Fans\n",
      "0               1                673.7                   24.498\n",
      "1               2               1379.9                   50.178\n",
      "2               3               2114.7                   76.898\n",
      "3               4               2666.5                   96.961\n",
      "4               5               2737.7                   99.551\n"
     ]
    }
   ],
   "source": [
    "# Grouping by 'employed Gates' and calculating the mean\n",
    "summary_table = df.groupby('employed Gates').agg({\n",
    "    'number of fans in the stadium': 'mean',\n",
    "    'percentage of fans in the stadium': 'mean'\n",
    "}).reset_index()\n",
    "\n",
    "# Renaming columns for clarity\n",
    "summary_table.columns = ['Employed Gates', 'Mean Number of Fans', 'Mean Percentage of Fans']\n",
    "\n",
    "# Displaying the summary table\n",
    "print(summary_table)\n"
   ]
  },
  {
   "cell_type": "markdown",
   "id": "9e88b11b",
   "metadata": {},
   "source": [
    "## Histogram Plot for Mean 'Percentage of Fans in the Stadium' per Employed Gates"
   ]
  },
  {
   "cell_type": "code",
   "execution_count": 33,
   "id": "7825a68d",
   "metadata": {},
   "outputs": [
    {
     "data": {
      "image/png": "[encoded data removed]",
      "text/plain": [
       "<Figure size 576x432 with 1 Axes>"
      ]
     },
     "metadata": {
      "needs_background": "light"
     },
     "output_type": "display_data"
    }
   ],
   "source": [
    "# Plotting the histogram for mean percentage of fans for each employed gate\n",
    "plt.figure(figsize=(8, 6))\n",
    "plt.bar(summary_table['Employed Gates'], summary_table['Mean Percentage of Fans'])\n",
    "plt.xlabel('Employed Gates')\n",
    "plt.ylabel('Mean Percentage of Fans')\n",
    "plt.title('Mean Percentage of Fans for Each Employed Gate')\n",
    "plt.show()"
   ]
  },
  {
   "cell_type": "markdown",
   "id": "735083fd",
   "metadata": {},
   "source": [
    "After conducting an extensive Monte Carlo simulation using the run CSV file, we have determined that employing 5 gates provides an optimal configuration for ensuring a smooth and efficient entry of fans to the stadium. As a result, for the other subsequent tasks, we will maintain this number of gates to uphold the simulation parameters and align with the insights derived from the Monte Carlo experiment."
   ]
  }
 ],
 "metadata": {
  "kernelspec": {
   "display_name": "Python 3 (ipykernel)",
   "language": "python",
   "name": "python3"
  },
  "language_info": {
   "codemirror_mode": {
    "name": "ipython",
    "version": 3
   },
   "file_extension": ".py",
   "mimetype": "text/x-python",
   "name": "python",
   "nbconvert_exporter": "python",
   "pygments_lexer": "ipython3",
   "version": "3.9.7"
  }
 },
 "nbformat": 4,
 "nbformat_minor": 5
}
